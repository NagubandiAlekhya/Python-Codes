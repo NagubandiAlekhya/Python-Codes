{
 "cells": [
  {
   "cell_type": "code",
   "execution_count": 37,
   "id": "f2e28c96",
   "metadata": {},
   "outputs": [
    {
     "name": "stdout",
     "output_type": "stream",
     "text": [
      "Requirement already satisfied: translate in c:\\users\\pravallika\\anaconda3\\lib\\site-packages (3.6.1)\n",
      "Requirement already satisfied: lxml in c:\\users\\pravallika\\anaconda3\\lib\\site-packages (from translate) (4.6.3)\n",
      "Requirement already satisfied: requests in c:\\users\\pravallika\\anaconda3\\lib\\site-packages (from translate) (2.26.0)\n",
      "Requirement already satisfied: click in c:\\users\\pravallika\\anaconda3\\lib\\site-packages (from translate) (8.0.3)\n",
      "Requirement already satisfied: libretranslatepy==2.1.1 in c:\\users\\pravallika\\anaconda3\\lib\\site-packages (from translate) (2.1.1)\n",
      "Requirement already satisfied: colorama in c:\\users\\pravallika\\anaconda3\\lib\\site-packages (from click->translate) (0.4.4)\n",
      "Requirement already satisfied: urllib3<1.27,>=1.21.1 in c:\\users\\pravallika\\anaconda3\\lib\\site-packages (from requests->translate) (1.26.7)\n",
      "Requirement already satisfied: idna<4,>=2.5 in c:\\users\\pravallika\\anaconda3\\lib\\site-packages (from requests->translate) (3.2)\n",
      "Requirement already satisfied: charset-normalizer~=2.0.0 in c:\\users\\pravallika\\anaconda3\\lib\\site-packages (from requests->translate) (2.0.4)\n",
      "Requirement already satisfied: certifi>=2017.4.17 in c:\\users\\pravallika\\anaconda3\\lib\\site-packages (from requests->translate) (2021.10.8)\n",
      "Note: you may need to restart the kernel to use updated packages.\n"
     ]
    }
   ],
   "source": [
    "pip install translate"
   ]
  },
  {
   "cell_type": "code",
   "execution_count": 45,
   "id": "4f8d7128",
   "metadata": {},
   "outputs": [
    {
     "name": "stdout",
     "output_type": "stream",
     "text": [
      "नमस्ते आप कैसे हैं\n"
     ]
    }
   ],
   "source": [
    "from translate import Translator\n",
    "\n",
    "obj=Translator(from_lang=\"english\",to_lang=\"hindi\")\n",
    "new_name=obj.translate('hello')\n",
    "print(new_name)\n"
   ]
  },
  {
   "cell_type": "code",
   "execution_count": 24,
   "id": "838da881",
   "metadata": {},
   "outputs": [
    {
     "name": "stdout",
     "output_type": "stream",
     "text": [
      "60\n",
      "None\n"
     ]
    }
   ],
   "source": [
    "    def m1(a,b):    #method overloading\n",
    "        print(a+b)\n",
    "    def m1(a,b,c):\n",
    "        print(a+b+c)\n",
    "#print(m1(10,20))\n",
    "print(m1(10,20,30))"
   ]
  },
  {
   "cell_type": "code",
   "execution_count": 4,
   "id": "3ae718e8",
   "metadata": {},
   "outputs": [
    {
     "name": "stdout",
     "output_type": "stream",
     "text": [
      "dog barking\n",
      "Animal Speaking\n",
      "Eating bread..\n"
     ]
    }
   ],
   "source": [
    "class Animal:  \n",
    "    def speak(self):  \n",
    "        print(\"Animal Speaking\")  \n",
    "#The child class Dog inherits the base class Animal  \n",
    "class Dog(Animal):  \n",
    "    def bark(self):  \n",
    "        print(\"dog barking\")  \n",
    "#The child class Puppy inherits another child class Dog  \n",
    "class Puppy(Dog):  \n",
    "    def eat(self):  \n",
    "        print(\"Eating bread..\")  \n",
    "d=Puppy()  \n",
    "d.bark()  \n",
    "d.speak()  \n",
    "d.eat()  "
   ]
  },
  {
   "cell_type": "code",
   "execution_count": 27,
   "id": "de8505c4",
   "metadata": {},
   "outputs": [
    {
     "name": "stdout",
     "output_type": "stream",
     "text": [
      "in square method\n"
     ]
    }
   ],
   "source": [
    "#abstraction\n",
    "from abc import ABC,abstractmethod\n",
    "class Area(ABC):\n",
    "    @abstractmethod\n",
    "    def calculate_area(self):\n",
    "        pass\n",
    "class Square(Area):\n",
    "    def calculate_area(self):\n",
    "        \n",
    "        print(\"in square method\")\n",
    "class Rectangle(Area):\n",
    "    pass\n",
    "obj=Square()\n",
    "obj.calculate_area()"
   ]
  },
  {
   "cell_type": "code",
   "execution_count": 31,
   "id": "c643beb1",
   "metadata": {},
   "outputs": [
    {
     "name": "stdout",
     "output_type": "stream",
     "text": [
      "in square method\n"
     ]
    }
   ],
   "source": [
    "#abstraction\n",
    "from abc import ABC,abstractmethod\n",
    "class Area(ABC):\n",
    "    @abstractmethod\n",
    "    def calculate_area(self):\n",
    "        pass\n",
    "    @abstractmethod\n",
    "    def calculate_circular_area(self):\n",
    "        pass\n",
    "class Square(Area):\n",
    "    def calculate_area(self):\n",
    "        print(\"in square method\")\n",
    "    def calculate_circular_area(self):\n",
    "        pass\n",
    "class Rectangle(Area):\n",
    "    pass\n",
    "obj=Square()\n",
    "obj.calculate_area()"
   ]
  },
  {
   "cell_type": "code",
   "execution_count": 3,
   "id": "bee34e28",
   "metadata": {},
   "outputs": [
    {
     "name": "stdout",
     "output_type": "stream",
     "text": [
      "4\n",
      "4\n"
     ]
    }
   ],
   "source": [
    "print(1<<2) \n",
    "print(16>>2)"
   ]
  },
  {
   "cell_type": "code",
   "execution_count": 4,
   "id": "3ccdc352",
   "metadata": {},
   "outputs": [
    {
     "data": {
      "text/plain": [
       "56"
      ]
     },
     "execution_count": 4,
     "metadata": {},
     "output_type": "execute_result"
    }
   ],
   "source": [
    "7<<3"
   ]
  },
  {
   "cell_type": "code",
   "execution_count": 5,
   "id": "91869204",
   "metadata": {},
   "outputs": [
    {
     "data": {
      "text/plain": [
       "88"
      ]
     },
     "execution_count": 5,
     "metadata": {},
     "output_type": "execute_result"
    }
   ],
   "source": [
    "11<<3  #Left shift:multiply 11*2=22*2=44*2=88\n"
   ]
  },
  {
   "cell_type": "code",
   "execution_count": 7,
   "id": "59aaca42",
   "metadata": {},
   "outputs": [
    {
     "data": {
      "text/plain": [
       "1"
      ]
     },
     "execution_count": 7,
     "metadata": {},
     "output_type": "execute_result"
    }
   ],
   "source": [
    "11>>3  #Right Shift:divide 11/2=5/2=2/2=1"
   ]
  },
  {
   "cell_type": "markdown",
   "id": "82bb03a1",
   "metadata": {},
   "source": [
    "# tic tac toe"
   ]
  },
  {
   "cell_type": "code",
   "execution_count": 11,
   "id": "61b3ded6",
   "metadata": {},
   "outputs": [
    {
     "name": "stdout",
     "output_type": "stream",
     "text": [
      "  |   |  \n",
      "----------\n",
      "  |   |  \n",
      "----------\n",
      "  |   |  \n"
     ]
    }
   ],
   "source": [
    "board=[\n",
    "    [\" \",\" \",\" \"],\n",
    "    [\" \",\" \",\" \"],\n",
    "    [\" \",\" \",\" \"]\n",
    "]\n",
    "def print_board(board):\n",
    "    print(*board[0],sep=\" | \")\n",
    "    print(\"----------\")\n",
    "    print(*board[1],sep=\" | \")\n",
    "    print(\"----------\")\n",
    "    print(*board[2],sep=\" | \")\n",
    "print_board(board)"
   ]
  },
  {
   "cell_type": "code",
   "execution_count": 6,
   "id": "ef3541e7",
   "metadata": {},
   "outputs": [
    {
     "name": "stdout",
     "output_type": "stream",
     "text": [
      "Player 1 choice(X or O): x\n",
      "player 1: X, player 2: O\n",
      " |  | \n",
      "---------\n",
      " |  | \n",
      "---------\n",
      " |  | \n",
      "Enter the coordinates: 1 1\n",
      " |  | \n",
      "---------\n",
      " | X | \n",
      "---------\n",
      " |  | \n",
      "Enter the coordinates: 0 0\n",
      "O |  | \n",
      "---------\n",
      " | X | \n",
      "---------\n",
      " |  | \n",
      "Enter the coordinates: 2 0\n",
      "O |  | \n",
      "---------\n",
      " | X | \n",
      "---------\n",
      "X |  | \n",
      "Enter the coordinates: 0 2\n",
      "O |  | O\n",
      "---------\n",
      " | X | \n",
      "---------\n",
      "X |  | \n",
      "Enter the coordinates: 0 1\n",
      "O | X | O\n",
      "---------\n",
      " | X | \n",
      "---------\n",
      "X |  | \n",
      "Enter the coordinates: 2 1\n",
      "O | X | O\n",
      "---------\n",
      " | X | \n",
      "---------\n",
      "X | O | \n",
      "Enter the coordinates: 1 0\n",
      "O | X | O\n",
      "---------\n",
      "X | X | \n",
      "---------\n",
      "X | O | \n",
      "Enter the coordinates: 2 2\n",
      "O | X | O\n",
      "---------\n",
      "X | X | \n",
      "---------\n",
      "X | O | O\n",
      "Enter the coordinates: 1 2\n",
      "Player 1 wins\n"
     ]
    }
   ],
   "source": [
    "board = [['', '', ''],['', '', ''],['', '', '']]\n",
    "\n",
    "def print_board(board):\n",
    "    print(*board[0], sep=\" | \")\n",
    "    print(\"---------\")\n",
    "    print(*board[1], sep=\" | \")\n",
    "    print(\"---------\")\n",
    "    print(*board[2], sep=\" | \")\n",
    "def get_markers():\n",
    "    marker1 = input(\"Player 1 choice(X or O): \").upper()\n",
    "    marker2 = \"\"\n",
    "    if marker1 == \"X\":\n",
    "        marker2 = 'O'\n",
    "        return ['X', 'O']\n",
    "    elif marker1 == 'O':\n",
    "        marker2 = 'X'\n",
    "        return ['O', 'X']\n",
    "    else:\n",
    "        print(\"Invalid Input\")\n",
    "        return get_markers()\n",
    "\n",
    "def get_coordinates():\n",
    "    x,y = list(map(int, input(\"Enter the coordinates: \").split()))\n",
    "    if x in [0,1,2] and y in [0,1,2]:\n",
    "        return [x,y]\n",
    "    else:\n",
    "        print(\"Invalid Input\")\n",
    "        return get_coordinates()\n",
    "\n",
    "def check_for_win(board):\n",
    "    for row in board:\n",
    "        if row[0] == row[1] and row[1] == row[2] and row[1] != \"\":\n",
    "            return True\n",
    "    for i in range(len(board)):\n",
    "        if board[0][i] == board[1][i] and board[1][i] == board[2][i] and board[2][i] != \"\":\n",
    "            return True\n",
    "    if board[0][0] == board[1][1] and board[1][1] == board[2][2] and board[2][2] != \"\":\n",
    "        return True\n",
    "    if board[0][2] == board[1][1] and board[1][1] == board[2][0] and board[2][0] != \"\":\n",
    "        return True\n",
    "    return False\n",
    "\n",
    "\n",
    "def update_board(board, chance, marker, x,y):\n",
    "    if chance == True:\n",
    "        board[x][y] = marker\n",
    "        if check_for_win(board):\n",
    "            print(\"Player 1 wins\")\n",
    "            return \"game over\"\n",
    "        return False\n",
    "    else:\n",
    "        board[x][y] = marker\n",
    "        if check_for_win(board):\n",
    "            print(\"Player 2 wins\")\n",
    "            return \"game over\"\n",
    "        return True\n",
    "\n",
    "def play_game():\n",
    "    player1 = 0\n",
    "    player2 = 0\n",
    "    m1, m2 = get_markers()\n",
    "    print(f\"player 1: {m1}, player 2: {m2}\")\n",
    "    chance = True\n",
    "    while True:\n",
    "        print_board(board)\n",
    "        x, y = get_coordinates()\n",
    "        if chance:\n",
    "            chance = update_board(board, chance, m1, x,y)\n",
    "            if chance == \"game over\":\n",
    "                break\n",
    "        else:\n",
    "            chance = update_board(board, chance, m2, x, y)\n",
    "            if chance == \"game over\":\n",
    "                break\n",
    "\n",
    "play_game()\n",
    "\n"
   ]
  },
  {
   "cell_type": "code",
   "execution_count": null,
   "id": "63f7072c",
   "metadata": {},
   "outputs": [],
   "source": []
  }
 ],
 "metadata": {
  "kernelspec": {
   "display_name": "Python 3 (ipykernel)",
   "language": "python",
   "name": "python3"
  },
  "language_info": {
   "codemirror_mode": {
    "name": "ipython",
    "version": 3
   },
   "file_extension": ".py",
   "mimetype": "text/x-python",
   "name": "python",
   "nbconvert_exporter": "python",
   "pygments_lexer": "ipython3",
   "version": "3.9.7"
  }
 },
 "nbformat": 4,
 "nbformat_minor": 5
}
