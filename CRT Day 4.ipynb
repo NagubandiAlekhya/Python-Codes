{
 "cells": [
  {
   "cell_type": "code",
   "execution_count": 2,
   "id": "e0083e02",
   "metadata": {},
   "outputs": [
    {
     "name": "stdout",
     "output_type": "stream",
     "text": [
      "abcabcabc\n",
      "[4, 4]\n"
     ]
    }
   ],
   "source": [
    "#repetation operator\n",
    "l=\"abc\"*3\n",
    "print(l)\n",
    "a=[4]*2\n",
    "print(a)"
   ]
  },
  {
   "cell_type": "code",
   "execution_count": 4,
   "id": "be094021",
   "metadata": {},
   "outputs": [
    {
     "data": {
      "text/plain": [
       "15"
      ]
     },
     "execution_count": 4,
     "metadata": {},
     "output_type": "execute_result"
    }
   ],
   "source": [
    "#XOR operator-->it converts into binary\n",
    "5^10"
   ]
  },
  {
   "cell_type": "code",
   "execution_count": null,
   "id": "1caad9d3",
   "metadata": {},
   "outputs": [],
   "source": [
    "'''A=65+25\n",
    "a=97\n",
    "0=48\n",
    "9=48+9\n",
    "'''"
   ]
  },
  {
   "cell_type": "code",
   "execution_count": null,
   "id": "83c9fbd8",
   "metadata": {},
   "outputs": [],
   "source": [
    "#user1=Bank(1001,\"user 1 name\",\"branch1\")\n",
    "#user2.print_"
   ]
  },
  {
   "cell_type": "code",
   "execution_count": 1,
   "id": "958355f0",
   "metadata": {},
   "outputs": [],
   "source": [
    "#account_IFSC=\" \"\n",
    "#__password=\" \"#double underscore is used for private varibles\n",
    "#print(user1.__password)\n",
    "#self.generateIFSC()"
   ]
  },
  {
   "cell_type": "code",
   "execution_count": null,
   "id": "ca21d2fe",
   "metadata": {},
   "outputs": [],
   "source": [
    "class User:\n",
    "    full_name=\" \"\n",
    "    email=\"\"\n",
    "    __password=\"\"\n",
    "    mobile_number=\"\"\n",
    "    def __init__(self,name,email,password):\n",
    "        self.full_name=name\n",
    "        self.email=email\n",
    "        self.password=password\n",
    "    def update_name(self,new_name):\n",
    "        self.full_name=new_name\n",
    "    def get_name(self):\n",
    "        return self.full_name\n",
    "    #setter method for private variables\n",
    "    def update_password(self,new_password):\n",
    "        self.__password=new_password\n",
    "    def update_mobile_number(self,new_number):\n",
    "        pass\n",
    "    #getter method for private variables\n",
    "    def get_user_password(self):\n",
    "        return self.__password"
   ]
  },
  {
   "cell_type": "code",
   "execution_count": null,
   "id": "891f96c0",
   "metadata": {},
   "outputs": [],
   "source": [
    "from UserClass import User\n",
    "class Login:\n",
    "    __db=[]\n",
    "    def __init__(self):\n",
    "        self.print_menu()\n",
    "    def print_menu(self):\n",
    "        print(\"Welcome User\")\n",
    "        print(\"1.Register\")\n",
    "        print(\"2.Login\")\n",
    "        print(\"3.Exit\")\n",
    "    def create_user(self,name,email,password):\n",
    "        new_user=User(name,email,password)\n",
    "        #print(new_user.get_name())\n",
    "        self.__db.append(new_user)\n",
    "        print(self.__db)\n",
    "        return True\n",
    "    def validate_user(self,email,password):\n",
    "        pass\n",
    "        \n",
    "        \n",
    "obj=Login()\n",
    "while True:\n",
    "    option=input(\"Enter your choice:\")\n",
    "    if option==\"1\":\n",
    "        name=input(\"Enter your full name:\")\n",
    "        email=input(\"Enter your email:\")\n",
    "        password=input(\"Enter your password:\")\n",
    "        res=obj.create_user(name,email,password)\n",
    "        if res==True:\n",
    "            print(\"User created successfully\")\n",
    "        \n",
    "    elif option==\"2\":\n",
    "        pass\n",
    "    elif option==\"3\":\n",
    "        break\n",
    "    else:\n",
    "        print(\"Invalid Input\")\n",
    "        \n",
    "        \n"
   ]
  },
  {
   "cell_type": "code",
   "execution_count": null,
   "id": "5b5621f5",
   "metadata": {},
   "outputs": [],
   "source": [
    "from UserClass import User\n",
    "class Login:\n",
    "    __db=[]\n",
    "    def __init__(self):\n",
    "        self.print_menu()\n",
    "    def print_menu(self):\n",
    "        print(\"Welcome User\")\n",
    "        print(\"1.Register\")\n",
    "        print(\"2.Login\")\n",
    "        print(\"3.Exit\")\n",
    "    def create_user(self,name,email,password):\n",
    "        new_user=User(name,email,password)\n",
    "        #print(new_user.get_name())\n",
    "        self.__db.append(new_user)\n",
    "        print(self.__db)\n",
    "        return True\n",
    "    def validate_user(self,email,password):\n",
    "        temp=self.__db.copy()\n",
    "        for user_obj in temp:\n",
    "            if email==user_obj.email:\n",
    "                if password==user_obj.get_user_password():\n",
    "                    print(\"redirecting\")\n",
    "                    return True\n",
    "                else:\n",
    "                    print(\"Incorrect password\")\n",
    "                    return False\n",
    "            else:\n",
    "                print(\"Email not found\")\n",
    "                return False\n",
    "        \n",
    "obj=Login()\n",
    "while True:\n",
    "    option=input(\"Enter your choice:\")\n",
    "    if option==\"1\":\n",
    "        name=input(\"Enter your full name:\")\n",
    "        email=input(\"Enter your email:\")\n",
    "        password=input(\"Enter your password:\")\n",
    "        res=obj.create_user(name,email,password)\n",
    "        if res==True:\n",
    "            print(\"User created successfully\")\n",
    "        \n",
    "    elif option==\"2\":\n",
    "        email=input(\"Enter mail:\")\n",
    "        password=input(\"Enter password:\")\n",
    "        if obj.validate_user(email,password):\n",
    "            print(\"Login Success\")\n",
    "        else:\n",
    "            print(\"Wrong Credentials\")\n",
    "    elif option==\"3\":\n",
    "        break\n",
    "    else:\n",
    "        print(\"Invalid Input\")\n",
    "        \n",
    "        \n"
   ]
  },
  {
   "cell_type": "code",
   "execution_count": 2,
   "id": "2c30e6c4",
   "metadata": {},
   "outputs": [],
   "source": [
    "class Bank:\n",
    "    account_IFSC=\"\"\n",
    "    def __init__(self,account_no,user_name,branch):\n",
    "        self.account_no=account_no\n",
    "        self.user_name=user_name\n",
    "        self.branch=branch\n",
    "    def generateIFSC(self):\n",
    "        account_IFSC=f\"IFSC{self.branch}{self.account}\"\n",
    "        self.account_IFSC=account_IFSC\n",
    "    def print_details_of_user(self):\n",
    "        print(f\"Account number: {self.account_no}\")\n",
    "        print(f\"IFSC code:{self.account_IFSC}\")\n",
    "        print(f\"Username:{self.user_name}\")\n",
    "        print(f\"Bank Branch:{self.branch}\")\n",
    "        "
   ]
  },
  {
   "cell_type": "code",
   "execution_count": 3,
   "id": "d88a33a2",
   "metadata": {},
   "outputs": [],
   "source": [
    "#email validation in python"
   ]
  },
  {
   "cell_type": "code",
   "execution_count": 4,
   "id": "b6e7a1bc",
   "metadata": {},
   "outputs": [
    {
     "name": "stdout",
     "output_type": "stream",
     "text": [
      "alekhya@gmail.com\n",
      "Valid\n"
     ]
    }
   ],
   "source": [
    "email=input()\n",
    "valid_char=[\"@\",\".\"]\n",
    "#print(email[10:])\n",
    "if \"@gmail.com\" in email:\n",
    "    first=email[0].lower()\n",
    "    if first in \"abcdefghijklmnopqrstuvwxyz\":\n",
    "        print(\"Valid\")\n",
    "    else:\n",
    "        print(\"Invalid email:first character should be alphabet\")\n",
    "else:\n",
    "    print(\"Invalid email\")"
   ]
  },
  {
   "cell_type": "code",
   "execution_count": null,
   "id": "4d75afaa",
   "metadata": {},
   "outputs": [],
   "source": []
  }
 ],
 "metadata": {
  "kernelspec": {
   "display_name": "Python 3 (ipykernel)",
   "language": "python",
   "name": "python3"
  },
  "language_info": {
   "codemirror_mode": {
    "name": "ipython",
    "version": 3
   },
   "file_extension": ".py",
   "mimetype": "text/x-python",
   "name": "python",
   "nbconvert_exporter": "python",
   "pygments_lexer": "ipython3",
   "version": "3.9.7"
  }
 },
 "nbformat": 4,
 "nbformat_minor": 5
}
