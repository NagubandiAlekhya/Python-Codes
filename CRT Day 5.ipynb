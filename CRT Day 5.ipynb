{
 "cells": [
  {
   "cell_type": "markdown",
   "id": "8b393482",
   "metadata": {},
   "source": [
    "# Inheritance"
   ]
  },
  {
   "cell_type": "code",
   "execution_count": 1,
   "id": "99e3f5d8",
   "metadata": {},
   "outputs": [
    {
     "name": "stdout",
     "output_type": "stream",
     "text": [
      "20\n",
      "navasri\n"
     ]
    }
   ],
   "source": [
    "#single level inheritance\n",
    "class A:\n",
    "    name=\"navasri\"\n",
    "    age=45\n",
    "class B(A):\n",
    "    age=20\n",
    "obj=B()\n",
    "#obj.name=\"alekhya\"\n",
    "print(obj.age)\n",
    "print(obj.name)"
   ]
  },
  {
   "cell_type": "code",
   "execution_count": null,
   "id": "ea193bd7",
   "metadata": {},
   "outputs": [],
   "source": [
    "#multi level inheritance\n",
    "class A:\n",
    "    name=\"navasri\"\n",
    "    age=45\n",
    "class B(A):\n",
    "    age=20\n",
    "class C(B):\n",
    "    \n",
    "class D(C):"
   ]
  },
  {
   "cell_type": "code",
   "execution_count": 8,
   "id": "8e9b6450",
   "metadata": {},
   "outputs": [
    {
     "name": "stdout",
     "output_type": "stream",
     "text": [
      "5.1\n",
      "fair\n",
      "telugu\n"
     ]
    }
   ],
   "source": [
    "class Parent:\n",
    "    name=\"navasri\"\n",
    "    age=45\n",
    "    height=\"5.1\"\n",
    "    color=\"fair\"\n",
    "    mother_tongue=\"telugu\"\n",
    "class Child(Parent):\n",
    "    name=\"alekhya\"\n",
    "    age=\"20\"\n",
    "obj=Child()\n",
    "print(obj.height)\n",
    "print(obj.color)\n",
    "print(obj.mother_tongue)\n",
    "    "
   ]
  },
  {
   "cell_type": "code",
   "execution_count": 4,
   "id": "eb79d666",
   "metadata": {},
   "outputs": [
    {
     "name": "stdout",
     "output_type": "stream",
     "text": [
      "Alekhya\n",
      "Pragati engineering college\n",
      "cse-ai&ml\n"
     ]
    }
   ],
   "source": [
    "class Chairman:\n",
    "    name=\"Krishna Rao\"\n",
    "    clgname=\"Pragati engineering college\"\n",
    "class Director(Chairman):\n",
    "    name=\"Sambhu Prasad\"\n",
    "class Principal(Director):\n",
    "    name=\"Satya Narayana\"\n",
    "class Hods(Principal):\n",
    "    name=\"Radha Krishna\"\n",
    "    dept=\"cse-ai&ml\"\n",
    "class Teachers(Hods):\n",
    "    name=\"Yamuna\"\n",
    "class Students(Teachers):\n",
    "    name=\"Alekhya\"\n",
    "    pass\n",
    "obj=Students()\n",
    "print(obj.name)\n",
    "print(obj.clgname)\n",
    "print(obj.dept)"
   ]
  },
  {
   "cell_type": "code",
   "execution_count": null,
   "id": "42eaba9e",
   "metadata": {},
   "outputs": [],
   "source": [
    "#hierarchical\n",
    "class Person:\n",
    "    name=\"\"\n",
    "    gender=\"\"\n",
    "    age=\"\"\n",
    "    pass\n",
    "class Student(Person):\n",
    "    roll_name=\"\"\n",
    "    branch=\"\"\n",
    "    pass\n",
    "class Faculty(Person):\n",
    "    salary=\"\"\n",
    "    subject=\"\"\n"
   ]
  },
  {
   "cell_type": "code",
   "execution_count": 2,
   "id": "f97af35f",
   "metadata": {},
   "outputs": [
    {
     "name": "stdout",
     "output_type": "stream",
     "text": [
      "smart watch\n",
      "present\n"
     ]
    }
   ],
   "source": [
    "class Product():\n",
    "    type=\"watch\"\n",
    "    pulse_rate=\"not present\"\n",
    "    pass\n",
    "class Titan(Product):\n",
    "    pass\n",
    "class Sonata(Product):\n",
    "    pass\n",
    "class Boat(Product):\n",
    "    type=\"smart watch\"\n",
    "    pulse_rate=\"present\"\n",
    "    pass\n",
    "class Samsung(Product):\n",
    "    pass\n",
    "class Realme(Product):\n",
    "    pass\n",
    "obj=Boat()\n",
    "print(obj.type)\n",
    "print(obj.pulse_rate)"
   ]
  },
  {
   "cell_type": "code",
   "execution_count": 12,
   "id": "27260019",
   "metadata": {},
   "outputs": [
    {
     "name": "stdout",
     "output_type": "stream",
     "text": [
      "in parent class 2\n"
     ]
    }
   ],
   "source": [
    "#multiple inheritance has diamond problem\n",
    "class P1:\n",
    "    def m1(self):\n",
    "        print(\"in parent class 1\")\n",
    "class P2:\n",
    "    def m1(self):\n",
    "        print(\"in parent class 2\")\n",
    "class C(P2,P1):\n",
    "    pass\n",
    "obj=C()\n",
    "obj.m1()"
   ]
  },
  {
   "cell_type": "code",
   "execution_count": 3,
   "id": "4cf0a2d0",
   "metadata": {},
   "outputs": [
    {
     "name": "stdout",
     "output_type": "stream",
     "text": [
      "fair\n",
      "5.2\n"
     ]
    }
   ],
   "source": [
    "class Mother:\n",
    "    color=\"fair\"\n",
    "    height=\"5.2\"\n",
    "    pass\n",
    "class Father:\n",
    "    color=\"black\"\n",
    "    height=\"5.5\"\n",
    "    pass\n",
    "class Child(Mother,Father):\n",
    "    pass\n",
    "obj=Child()\n",
    "print(obj.color)\n",
    "print(obj.height)"
   ]
  },
  {
   "cell_type": "code",
   "execution_count": 21,
   "id": "b9072cfc",
   "metadata": {},
   "outputs": [
    {
     "name": "stdout",
     "output_type": "stream",
     "text": [
      "chocolate product\n",
      "only chocolate\n"
     ]
    }
   ],
   "source": [
    "#hybrid inheritance\n",
    "class Factory:\n",
    "    item=\"chocolate product\"\n",
    "class Cadbury(Factory):\n",
    "    prep=\"only chocolate\"\n",
    "class Nestle(Factory):\n",
    "    prep=\"biscuit type chocolate\"\n",
    "class Choco_product(Cadbury,Nestle):\n",
    "    pass\n",
    "obj=Choco_product()\n",
    "print(obj.item)\n",
    "print(obj.prep)"
   ]
  },
  {
   "cell_type": "code",
   "execution_count": 5,
   "id": "486149e6",
   "metadata": {},
   "outputs": [
    {
     "name": "stdout",
     "output_type": "stream",
     "text": [
      "4\n",
      "649.5708983735751\n"
     ]
    }
   ],
   "source": [
    "from random import random,randint\n",
    "a=randint(1,10)\n",
    "id=random()*1000\n",
    "print(a)\n",
    "print(id)"
   ]
  },
  {
   "cell_type": "code",
   "execution_count": 13,
   "id": "68017402",
   "metadata": {},
   "outputs": [
    {
     "name": "stdout",
     "output_type": "stream",
     "text": [
      "choose among the following: ['rock', 'paper', 'scissors']\n",
      "Player choice: rock\n",
      "System choice:scissors\n",
      "your score:0,system score:1\n",
      "choose among the following: ['rock', 'paper', 'scissors']\n",
      "Player choice: scissors\n",
      "System choice:scissors\n",
      "---DRAW---\n",
      "choose among the following: ['rock', 'paper', 'scissors']\n",
      "Player choice: paper\n",
      "System choice:rock\n",
      "your score:0,system score:2\n",
      "choose among the following: ['rock', 'paper', 'scissors']\n",
      "Player choice: rock\n",
      "System choice:rock\n",
      "---DRAW---\n",
      "choose among the following: ['rock', 'paper', 'scissors']\n",
      "Player choice: rock\n",
      "System choice:rock\n",
      "---DRAW---\n",
      "choose among the following: ['rock', 'paper', 'scissors']\n",
      "Player choice: paper\n",
      "System choice:rock\n",
      "your score:0,system score:3\n",
      "system win the match\n"
     ]
    }
   ],
   "source": [
    "choice=[\"rock\",\"paper\",\"scissors\"]\n",
    "p_score=0\n",
    "c_score=0\n",
    "limit=3\n",
    "while p_score!=limit and c_score!=limit:\n",
    "    print(\"choose among the following:\",choice)\n",
    "    my_ch=input(\"Player choice: \").lower()\n",
    "    if my_ch not in choice:\n",
    "        print(\"Invalid Input\")\n",
    "        continue\n",
    "    sys_ch=choice[int(randint(0,2))]\n",
    "    print(f\"System choice:{sys_ch}\")\n",
    "    if my_ch==sys_ch:\n",
    "        print(\"---DRAW---\")\n",
    "        continue\n",
    "    if my_ch==\"rock\" and sys_ch==\"scissors\":\n",
    "        c_score+=1\n",
    "    elif my_ch==\"paper\" and sys_ch==\"rock\":\n",
    "        c_score+=1\n",
    "    elif my_ch==\"scissors\" and sys_ch==\"paper\":\n",
    "        c_score+=1\n",
    "    else:\n",
    "        p_score+=1\n",
    "    print(f\"your score:{p_score},system score:{c_score}\")\n",
    "\n",
    "if p_score>c_score:\n",
    "    print(\"you win the match\")\n",
    "else:\n",
    "    print(\"system win the match\")\n",
    "    "
   ]
  },
  {
   "cell_type": "code",
   "execution_count": 15,
   "id": "977b465a",
   "metadata": {},
   "outputs": [
    {
     "name": "stdout",
     "output_type": "stream",
     "text": [
      "sum of 2 numbers:  30\n"
     ]
    }
   ],
   "source": [
    "class A:                   #method overriding also called as runtime polymorphism\n",
    "    def method_1(self,a,b):\n",
    "        print(\"sum of 2 numbers: \",a+b)\n",
    "class B(A):\n",
    "    def method_2(self,a,b):\n",
    "        print(\"mul of 2 numbers: \",a*b)\n",
    "obj=B()\n",
    "obj.method_1(10,20)"
   ]
  },
  {
   "cell_type": "code",
   "execution_count": 26,
   "id": "403a3591",
   "metadata": {},
   "outputs": [
    {
     "name": "stdout",
     "output_type": "stream",
     "text": [
      "value:  10\n"
     ]
    }
   ],
   "source": [
    "class A:                    #method overloading\n",
    "    def method_1(self,a,b):\n",
    "        print(\"sum of 2 numbers: \",a+b)\n",
    "class B(A):\n",
    "    def method_1(self,abc):\n",
    "        print(\"value: \",abc)\n",
    "obj=B()\n",
    "obj.method_1(10)"
   ]
  },
  {
   "cell_type": "code",
   "execution_count": 20,
   "id": "5af17fe0",
   "metadata": {},
   "outputs": [
    {
     "name": "stdout",
     "output_type": "stream",
     "text": [
      "value:  10\n"
     ]
    }
   ],
   "source": [
    "class A:       \n",
    "    def method_1(self,a,b):\n",
    "        print(\"sum of 2 numbers: \",a+b)\n",
    "class B(A):\n",
    "    def method_1(self,a,b):\n",
    "        print(\"sum of 2 numbers: \",a+b)\n",
    "    def method_1(self,abc):\n",
    "        print(\"value: \",abc)\n",
    "obj=B()\n",
    "obj.method_1(10)  #it takes the latest definition"
   ]
  },
  {
   "cell_type": "code",
   "execution_count": 22,
   "id": "51a28223",
   "metadata": {},
   "outputs": [
    {
     "name": "stdout",
     "output_type": "stream",
     "text": [
      "sum of 2 numbers:  30\n"
     ]
    }
   ],
   "source": [
    "class A:       \n",
    "    def method_1(self,a,b):\n",
    "        print(\"sum of 2 numbers: \",a+b)\n",
    "class B(A):\n",
    "    def method_1(self,abc):\n",
    "        print(\"value: \",abc)\n",
    "    def method_1(self,a,b):\n",
    "        print(\"sum of 2 numbers: \",a+b)\n",
    "obj=B()\n",
    "obj.method_1(10,20)  #it takes the latest definition"
   ]
  },
  {
   "cell_type": "code",
   "execution_count": 20,
   "id": "2dfcb8af",
   "metadata": {},
   "outputs": [
    {
     "name": "stdout",
     "output_type": "stream",
     "text": [
      "5\n",
      "7\n",
      "010\n",
      "000\n",
      "2\n",
      "0\n",
      "2\n"
     ]
    }
   ],
   "source": [
    "def invert(str):\n",
    "    res=\"\"\n",
    "    for i in str:\n",
    "        if i==\"0\":\n",
    "            res+=\"1\"\n",
    "        else:\n",
    "            res+=\"0\"\n",
    "    return res\n",
    "\n",
    "a=int(input())\n",
    "b=int(input())\n",
    "op=\"^\"\n",
    "new_a=bin(a)[2:]\n",
    "new_b=bin(b)[2:]\n",
    "new_a=invert(new_a)\n",
    "new_b=invert(new_b)\n",
    "print(new_a)\n",
    "print(new_b)\n",
    "#print(int(new_a,2))\n",
    "x=int(new_a,2)\n",
    "y=int(new_b,2)\n",
    "print(x)\n",
    "print(y)\n",
    "print(x^y)"
   ]
  },
  {
   "cell_type": "code",
   "execution_count": null,
   "id": "4e5ab3a2",
   "metadata": {},
   "outputs": [],
   "source": []
  }
 ],
 "metadata": {
  "kernelspec": {
   "display_name": "Python 3 (ipykernel)",
   "language": "python",
   "name": "python3"
  },
  "language_info": {
   "codemirror_mode": {
    "name": "ipython",
    "version": 3
   },
   "file_extension": ".py",
   "mimetype": "text/x-python",
   "name": "python",
   "nbconvert_exporter": "python",
   "pygments_lexer": "ipython3",
   "version": "3.9.7"
  }
 },
 "nbformat": 4,
 "nbformat_minor": 5
}
