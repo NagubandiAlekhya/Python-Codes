{
 "cells": [
  {
   "cell_type": "code",
   "execution_count": 1,
   "id": "dd033513",
   "metadata": {},
   "outputs": [
    {
     "name": "stdout",
     "output_type": "stream",
     "text": [
      "key1\n",
      "name\n",
      "branch\n",
      "section\n"
     ]
    }
   ],
   "source": [
    "d={\n",
    "    \"key1\" : \"value1\"\n",
    "}\n",
    "d.update({\"name\":\"alekhya\"})\n",
    "d.update({\"branch\":\"cse\"})\n",
    "d.update({\"section\":\"ai&ml\"})\n",
    "\n",
    "for i in d:\n",
    "    print(i)"
   ]
  },
  {
   "cell_type": "code",
   "execution_count": 2,
   "id": "902c2eaf",
   "metadata": {},
   "outputs": [
    {
     "name": "stdout",
     "output_type": "stream",
     "text": [
      "value1\n",
      "alekhya\n",
      "cse\n",
      "ai&ml\n"
     ]
    }
   ],
   "source": [
    "d={\n",
    "    \"key1\" : \"value1\"\n",
    "}\n",
    "d.update({\"name\":\"alekhya\"})\n",
    "d.update({\"branch\":\"cse\"})\n",
    "d.update({\"section\":\"ai&ml\"})\n",
    "\n",
    "for i in d:\n",
    "    print(d[i])"
   ]
  },
  {
   "cell_type": "code",
   "execution_count": 3,
   "id": "cd1b2596",
   "metadata": {},
   "outputs": [
    {
     "name": "stdout",
     "output_type": "stream",
     "text": [
      "<class 'int'>\n",
      "<class 'str'>\n",
      "<class 'str'>\n",
      "<class 'str'>\n"
     ]
    }
   ],
   "source": [
    "d={\n",
    "    20 : \"value\"\n",
    "}\n",
    "d.update({\"name\":\"alekhya\"})\n",
    "d.update({\"branch\":\"cse\"})\n",
    "d.update({\"section\":\"ai&ml\"})\n",
    "\n",
    "for i in d:\n",
    "    print(type(i))"
   ]
  },
  {
   "cell_type": "code",
   "execution_count": 5,
   "id": "cc0b96a8",
   "metadata": {},
   "outputs": [
    {
     "name": "stdout",
     "output_type": "stream",
     "text": [
      "enter key 1:10\n",
      "enter key 2:20\n",
      "enter key 1:30\n",
      "enter key 2:40\n",
      "{'key1': '30', 'key2': '40'}\n"
     ]
    }
   ],
   "source": [
    "d={}\n",
    "for i in range(2):\n",
    "    d.update({\n",
    "        \"key1\": input(\"enter key 1:\"),\n",
    "        \"key2\": input(\"enter key 2:\")\n",
    "    })\n",
    "print(d)"
   ]
  },
  {
   "cell_type": "code",
   "execution_count": 6,
   "id": "2a3be1d0",
   "metadata": {},
   "outputs": [
    {
     "name": "stdout",
     "output_type": "stream",
     "text": [
      "enter key 1:10\n",
      "enter key 2:20\n",
      "enter key 1:30\n",
      "enter key 2:40\n",
      "[{'key1': '30', 'key2': '40'}, {'key1': '30', 'key2': '40'}]\n"
     ]
    }
   ],
   "source": [
    "l=[]\n",
    "d={}\n",
    "for i in range(2):\n",
    "    d.update({\n",
    "        \"key1\": input(\"enter key 1:\"),\n",
    "        \"key2\": input(\"enter key 2:\")\n",
    "    })\n",
    "    l.append(d)\n",
    "print(l)"
   ]
  },
  {
   "cell_type": "code",
   "execution_count": 2,
   "id": "a57ed4ba",
   "metadata": {},
   "outputs": [
    {
     "name": "stdout",
     "output_type": "stream",
     "text": [
      "[{'123@gmail.com': '123'}, {'abc@gmail.com': 'abc'}, {'xyz@gmail.com': 'xyz'}, {'456@gmail.com': '456'}]\n",
      "Enter username:123@gmail.com\n",
      "Enter password:123\n",
      "{'123@gmail.com': '123'}\n",
      "{'abc@gmail.com': 'abc'}\n",
      "{'xyz@gmail.com': 'xyz'}\n",
      "{'456@gmail.com': '456'}\n"
     ]
    }
   ],
   "source": [
    "db=[ \n",
    "        {\"123@gmail.com\":\"123\"},\n",
    "        {\"abc@gmail.com\":\"abc\"},\n",
    "        {\"xyz@gmail.com\":\"xyz\"},\n",
    "        {\"456@gmail.com\":\"456\"}\n",
    "    ]\n",
    "print(db)\n",
    "username=input(\"Enter username:\")\n",
    "password=input(\"Enter password:\")\n",
    "for i in db:\n",
    "    print(i)\n"
   ]
  },
  {
   "cell_type": "code",
   "execution_count": 3,
   "id": "a319b1cc",
   "metadata": {},
   "outputs": [
    {
     "name": "stdout",
     "output_type": "stream",
     "text": [
      "[{'123@gmail.com': '123'}, {'abc@gmail.com': 'abc'}, {'xyz@gmail.com': 'xyz'}, {'456@gmail.com': '456'}]\n",
      "dict_keys(['123@gmail.com'])\n",
      "dict_values(['123'])\n",
      "dict_items([('123@gmail.com', '123')])\n",
      "dict_keys(['abc@gmail.com'])\n",
      "dict_values(['abc'])\n",
      "dict_items([('abc@gmail.com', 'abc')])\n",
      "dict_keys(['xyz@gmail.com'])\n",
      "dict_values(['xyz'])\n",
      "dict_items([('xyz@gmail.com', 'xyz')])\n",
      "dict_keys(['456@gmail.com'])\n",
      "dict_values(['456'])\n",
      "dict_items([('456@gmail.com', '456')])\n"
     ]
    }
   ],
   "source": [
    "db=[ \n",
    "        {\"123@gmail.com\":\"123\"},\n",
    "        {\"abc@gmail.com\":\"abc\"},\n",
    "        {\"xyz@gmail.com\":\"xyz\"},\n",
    "        {\"456@gmail.com\":\"456\"}\n",
    "    ]\n",
    "print(db)\n",
    "for i in db:\n",
    "    print(i.keys())\n",
    "    print(i.values())\n",
    "    print(i.items())"
   ]
  },
  {
   "cell_type": "code",
   "execution_count": 4,
   "id": "cea4c71f",
   "metadata": {},
   "outputs": [
    {
     "name": "stdout",
     "output_type": "stream",
     "text": [
      "[{'123@gmail.com': '123'}, {'abc@gmail.com': 'abc'}, {'xyz@gmail.com': 'xyz'}, {'456@gmail.com': '456'}]\n",
      "Enter username:123@gmail.com\n",
      "Enter password:123\n",
      "found\n"
     ]
    }
   ],
   "source": [
    "db=[ \n",
    "        {\"123@gmail.com\":\"123\"},\n",
    "        {\"abc@gmail.com\":\"abc\"},\n",
    "        {\"xyz@gmail.com\":\"xyz\"},\n",
    "        {\"456@gmail.com\":\"456\"}\n",
    "    ]\n",
    "print(db)\n",
    "username=input(\"Enter username:\")\n",
    "password=input(\"Enter password:\")\n",
    "temp={\n",
    "    username:password\n",
    "}\n",
    "if temp in db:\n",
    "    print(\"found\")\n",
    "else:\n",
    "    print(\"not found\")\n"
   ]
  },
  {
   "cell_type": "code",
   "execution_count": 7,
   "id": "f405775d",
   "metadata": {},
   "outputs": [
    {
     "name": "stdout",
     "output_type": "stream",
     "text": [
      "enter a element:1\n",
      "enter a element:2\n",
      "enter a element:3\n",
      "enter a element:4\n",
      "enter a element:5\n",
      "enter a element:6\n",
      "enter a element:7\n",
      "enter a element:8\n",
      "enter a element:9\n",
      "[[1, 2, 3], [4, 5, 6], [7, 8, 9]]\n"
     ]
    }
   ],
   "source": [
    "row=3\n",
    "col=3\n",
    "arr=[]\n",
    "for i in range(row):\n",
    "    element=[]\n",
    "    for j in range(col):\n",
    "        element.append(int(input(\"enter a element:\")))\n",
    "    arr.append(element)\n",
    "print(arr)"
   ]
  },
  {
   "cell_type": "code",
   "execution_count": 9,
   "id": "d68046d6",
   "metadata": {},
   "outputs": [
    {
     "name": "stdout",
     "output_type": "stream",
     "text": [
      "enter a element:1\n",
      "enter a element:2\n",
      "enter a element:3\n",
      "enter a element:4\n",
      "enter a element:5\n",
      "enter a element:6\n",
      "enter a element:7\n",
      "enter a element:8\n",
      "enter a element:9\n",
      "[[1, 2, 3], [4, 5, 6], [7, 8, 9]]\n",
      "enter a element:1\n",
      "enter a element:2\n",
      "enter a element:3\n",
      "enter a element:4\n",
      "enter a element:5\n",
      "enter a element:6\n",
      "enter a element:7\n",
      "enter a element:8\n",
      "enter a element:9\n",
      "[[1, 2, 3], [4, 5, 6], [7, 8, 9]]\n",
      "[[1, 2, 3], [4, 5, 6], [7, 8, 9], [1, 2, 3], [4, 5, 6], [7, 8, 9]]\n"
     ]
    }
   ],
   "source": [
    "row=3\n",
    "col=3\n",
    "arr1=[]\n",
    "arr2=[]\n",
    "for i in range(row):\n",
    "    element=[]\n",
    "    for j in range(col):\n",
    "        element.append(int(input(\"enter a element:\")))\n",
    "    arr1.append(element)\n",
    "print(arr1)\n",
    "for i in range(row):\n",
    "    element=[]\n",
    "    for j in range(col):\n",
    "        element.append(int(input(\"enter a element:\")))\n",
    "    arr2.append(element)\n",
    "print(arr2)\n",
    "arr3=arr1+arr2\n",
    "print(arr3)"
   ]
  },
  {
   "cell_type": "code",
   "execution_count": 13,
   "id": "1e880a82",
   "metadata": {},
   "outputs": [
    {
     "name": "stdout",
     "output_type": "stream",
     "text": [
      "enter elements:1 2 3\n",
      "enter elements:4 5 6\n",
      "enter elements:7 8 9\n",
      "[[1, 2, 3], [4, 5, 6], [7, 8, 9]]\n"
     ]
    }
   ],
   "source": [
    "#taking user inputin array\n",
    "row=3\n",
    "col=4\n",
    "new_arr=[]\n",
    "for i in range(row):\n",
    "    a=input(\"enter elements:\").split(' ')\n",
    "    #print(a)\n",
    "    b=list(map(int,a))\n",
    "    #print(b)\n",
    "    new_arr.append(b)\n",
    "print(new_arr)"
   ]
  },
  {
   "cell_type": "code",
   "execution_count": 12,
   "id": "75874abf",
   "metadata": {},
   "outputs": [
    {
     "name": "stdout",
     "output_type": "stream",
     "text": [
      "enter elements:1 2 3\n",
      "enter elements:4 5 6\n",
      "enter elements:7 8 9\n",
      "[[1, 2, 3], [4, 5, 6], [7, 8, 9]]\n"
     ]
    }
   ],
   "source": [
    "row=3\n",
    "col=4\n",
    "new_arr=[]\n",
    "for i in range(row):\n",
    "    b=list(map(int,input(\"enter elements:\").split(' ')))\n",
    "    new_arr.append(b)\n",
    "print(new_arr)\n",
    "           "
   ]
  },
  {
   "cell_type": "markdown",
   "id": "f601faa9",
   "metadata": {},
   "source": [
    "# slicing"
   ]
  },
  {
   "cell_type": "code",
   "execution_count": 15,
   "id": "90c6b49c",
   "metadata": {},
   "outputs": [
    {
     "name": "stdout",
     "output_type": "stream",
     "text": [
      "1\n",
      "[2, 3, 4, 5]\n",
      "[2, 4, 6]\n",
      "8\n",
      "[8, 7, 6, 5, 4, 3]\n"
     ]
    }
   ],
   "source": [
    "a=[1,2,3,4,5,6,7,8]\n",
    "print(a[0])\n",
    "print(a[1:5])\n",
    "print(a[1:7:2])\n",
    "print(a[-1])\n",
    "print(a[7:1:-1])"
   ]
  },
  {
   "cell_type": "markdown",
   "id": "aab53864",
   "metadata": {},
   "source": [
    "# string methods\n"
   ]
  },
  {
   "cell_type": "code",
   "execution_count": 10,
   "id": "c56ec336",
   "metadata": {},
   "outputs": [
    {
     "name": "stdout",
     "output_type": "stream",
     "text": [
      "hello world\n",
      "Hello world\n",
      "['hello', 'world']\n",
      "h-e-l-l-o- -w-o-r-l-d\n",
      "hello-world\n",
      "Hello World\n"
     ]
    }
   ],
   "source": [
    "s=\"hello world\"\n",
    "print(s)\n",
    "print(s.capitalize())\n",
    "res=s.split()\n",
    "print(res)\n",
    "print(\"-\".join(s))\n",
    "print(\"-\".join(res))\n",
    "print(s.title())"
   ]
  },
  {
   "cell_type": "code",
   "execution_count": 4,
   "id": "109ee7fa",
   "metadata": {},
   "outputs": [
    {
     "name": "stdout",
     "output_type": "stream",
     "text": [
      "hello@world\n",
      "Hello@world\n",
      "['hello', 'world']\n"
     ]
    }
   ],
   "source": [
    "s=\"hello@world\"\n",
    "print(s)\n",
    "print(s.capitalize())\n",
    "print(s.split('@'))"
   ]
  },
  {
   "cell_type": "code",
   "execution_count": 13,
   "id": "3d4d1fff",
   "metadata": {},
   "outputs": [
    {
     "name": "stdout",
     "output_type": "stream",
     "text": [
      "hello world\n",
      "Hello world\n",
      "['hello', 'world']\n",
      "hello-world\n",
      "Hello World\n",
      "HELLO WORLD\n",
      "hello world\n",
      "3\n"
     ]
    }
   ],
   "source": [
    "s=\"hello world\"\n",
    "print(s)\n",
    "print(s.capitalize())\n",
    "res=s.split()\n",
    "print(res)\n",
    "print(\"-\".join(res))\n",
    "print(s.title())\n",
    "print(s.upper())\n",
    "print(s.lower())\n",
    "print(s.count(\"l\"))"
   ]
  },
  {
   "cell_type": "code",
   "execution_count": 18,
   "id": "3b02c248",
   "metadata": {},
   "outputs": [
    {
     "name": "stdout",
     "output_type": "stream",
     "text": [
      "True\n",
      "True\n",
      "True\n",
      "False\n",
      "True\n",
      "hELLO123\n"
     ]
    }
   ],
   "source": [
    "s1=\"Hello123\"\n",
    "s2=\"123\"\n",
    "print(s1.isalnum())\n",
    "print(s2.isdigit())\n",
    "print(s2.isdecimal())\n",
    "print(s1.isalpha())\n",
    "print(s1.isalnum())\n",
    "print(s1.swapcase())"
   ]
  },
  {
   "cell_type": "markdown",
   "id": "3b689c09",
   "metadata": {},
   "source": [
    "# string formatting"
   ]
  },
  {
   "cell_type": "code",
   "execution_count": 26,
   "id": "92a35028",
   "metadata": {},
   "outputs": [
    {
     "name": "stdout",
     "output_type": "stream",
     "text": [
      "Mr.X is 20 years old\n",
      "Mr.X is 20 years old\n"
     ]
    }
   ],
   "source": [
    "first=\"Mr.X is \"\n",
    "age=20\n",
    "last=\" years old\"\n",
    "print(first+str(age)+last)\n",
    "print(\"Mr.X is {} years old\".format(age))"
   ]
  },
  {
   "cell_type": "code",
   "execution_count": 39,
   "id": "801d206b",
   "metadata": {},
   "outputs": [
    {
     "name": "stdout",
     "output_type": "stream",
     "text": [
      "square of 12.46 is 155.252\n"
     ]
    }
   ],
   "source": [
    "num=12.46\n",
    "print(\"square of {} is {:.3f}\".format(num,num*num))"
   ]
  },
  {
   "cell_type": "code",
   "execution_count": 40,
   "id": "2bd0e314",
   "metadata": {},
   "outputs": [
    {
     "name": "stdout",
     "output_type": "stream",
     "text": [
      "square of 12 is 144.0000\n"
     ]
    }
   ],
   "source": [
    "num=12\n",
    "print(\"square of {} is {:.4f}\".format(num,num*num))"
   ]
  },
  {
   "cell_type": "code",
   "execution_count": 41,
   "id": "d7ab91a0",
   "metadata": {},
   "outputs": [
    {
     "name": "stdout",
     "output_type": "stream",
     "text": [
      "square of 12 is 144\n"
     ]
    }
   ],
   "source": [
    "num=12\n",
    "print(f\"square of {num} is {num*num}\")"
   ]
  },
  {
   "cell_type": "code",
   "execution_count": 42,
   "id": "b35326b0",
   "metadata": {},
   "outputs": [
    {
     "name": "stdout",
     "output_type": "stream",
     "text": [
      "square of 12 is 144.00000\n"
     ]
    }
   ],
   "source": [
    "num=12\n",
    "print(f\"square of {num} is {num*num:.5f}\")"
   ]
  },
  {
   "cell_type": "code",
   "execution_count": 53,
   "id": "fc9a31eb",
   "metadata": {},
   "outputs": [
    {
     "name": "stdout",
     "output_type": "stream",
     "text": [
      "enter a number:4\n",
      "enter b number:0\n",
      "4 4 0\n",
      "do not divide with zero\n"
     ]
    }
   ],
   "source": [
    "a=int(input(\"enter a number:\"))\n",
    "b=int(input(\"enter b number:\"))\n",
    "add=a+b\n",
    "sub=a-b\n",
    "mul=a*b\n",
    "\n",
    "print(add,sub,mul)\n",
    "try:\n",
    "    print(a/b)\n",
    "    \n",
    "except:\n",
    "    print(\"do not divide with zero\")"
   ]
  },
  {
   "cell_type": "code",
   "execution_count": 67,
   "id": "f85fdb76",
   "metadata": {},
   "outputs": [
    {
     "name": "stdout",
     "output_type": "stream",
     "text": [
      "1 2 3 4 5\n",
      "1 2 3 4 5\n"
     ]
    }
   ],
   "source": [
    "a,b,c,d,e=[int(a) for a in input().split(' ')]\n",
    "print(a,b,c,d,e)"
   ]
  },
  {
   "cell_type": "code",
   "execution_count": 71,
   "id": "dfa927f0",
   "metadata": {},
   "outputs": [
    {
     "name": "stdout",
     "output_type": "stream",
     "text": [
      "10,000\n",
      "enter an integer\n"
     ]
    }
   ],
   "source": [
    "try:\n",
    "    arr=list(map(int,input().split(' ')))\n",
    "    print(arr)\n",
    "except:\n",
    "    print(\"enter an integer\")"
   ]
  },
  {
   "cell_type": "code",
   "execution_count": 72,
   "id": "41a0e999",
   "metadata": {},
   "outputs": [
    {
     "name": "stdout",
     "output_type": "stream",
     "text": [
      "10.6\n"
     ]
    }
   ],
   "source": [
    "print(eval(\"1+3/5+9\")) #eval()"
   ]
  },
  {
   "cell_type": "markdown",
   "id": "53d022b0",
   "metadata": {},
   "source": [
    "# functions"
   ]
  },
  {
   "cell_type": "code",
   "execution_count": 73,
   "id": "72ae29d9",
   "metadata": {},
   "outputs": [
    {
     "name": "stdout",
     "output_type": "stream",
     "text": [
      "30\n"
     ]
    }
   ],
   "source": [
    "#regular functions or userdefined functions\n",
    "def addition(num1,num2):\n",
    "    res=num1+num2\n",
    "    return res\n",
    "print(addition(10,20))"
   ]
  },
  {
   "cell_type": "code",
   "execution_count": 77,
   "id": "6782b5ee",
   "metadata": {},
   "outputs": [],
   "source": [
    "num=23\n",
    "#method1\n",
    "for i in range(1,num+1): #23 iterations\n",
    "    pass\n",
    "#method2\n",
    "for i in range(2,num):   #21\n",
    "    pass\n",
    "#method3\n",
    "for i in range(2,num//2):  #10\n",
    "    pass\n",
    "#method4\n",
    "for i in range(2,int(num**0.5)+1):   #3\n",
    "    pass"
   ]
  },
  {
   "cell_type": "code",
   "execution_count": 79,
   "id": "11bef660",
   "metadata": {},
   "outputs": [
    {
     "name": "stdout",
     "output_type": "stream",
     "text": [
      "11\n"
     ]
    }
   ],
   "source": [
    "#default argument functions\n",
    "def add(num1,num2=1):\n",
    "    return num1+num2\n",
    "a=10\n",
    "b=10\n",
    "res=add(10,10)\n",
    "print(res)"
   ]
  },
  {
   "cell_type": "code",
   "execution_count": 80,
   "id": "ce9455dc",
   "metadata": {},
   "outputs": [
    {
     "name": "stdout",
     "output_type": "stream",
     "text": [
      "num1: 10\n",
      "num2: 20\n"
     ]
    }
   ],
   "source": [
    "#keyword argument functions\n",
    "def add(num1,num2):\n",
    "    print(\"num1:\",num1)\n",
    "    print(\"num2:\",num2)\n",
    "add(10,20)"
   ]
  },
  {
   "cell_type": "code",
   "execution_count": 81,
   "id": "df0aac73",
   "metadata": {},
   "outputs": [
    {
     "name": "stdout",
     "output_type": "stream",
     "text": [
      "num1: 20\n",
      "num2: 10\n"
     ]
    }
   ],
   "source": [
    "def add(num1,num2):\n",
    "    print(\"num1:\",num1)\n",
    "    print(\"num2:\",num2)\n",
    "add(num2=10,num1=20)"
   ]
  },
  {
   "cell_type": "code",
   "execution_count": 83,
   "id": "66a9aa3b",
   "metadata": {},
   "outputs": [
    {
     "name": "stdout",
     "output_type": "stream",
     "text": [
      "1 2 3 4\n"
     ]
    }
   ],
   "source": [
    "def dis(a,b,c,d):\n",
    "    print(a,b,c,d)\n",
    "dis(1,2,3,4)"
   ]
  },
  {
   "cell_type": "code",
   "execution_count": 89,
   "id": "4004778e",
   "metadata": {},
   "outputs": [
    {
     "name": "stdout",
     "output_type": "stream",
     "text": [
      "1 2 3 4\n"
     ]
    }
   ],
   "source": [
    "def dis(a,b,c,d):\n",
    "    print(a,b,c,d)\n",
    "dis(1,2,3,d=4)"
   ]
  },
  {
   "cell_type": "code",
   "execution_count": 91,
   "id": "a960d35d",
   "metadata": {},
   "outputs": [
    {
     "name": "stdout",
     "output_type": "stream",
     "text": [
      "(1, 20, 'hello', [4, 5, 6], 2)\n"
     ]
    }
   ],
   "source": [
    "#variable length functions\n",
    "def add(*abc):\n",
    "    print(abc)\n",
    "add(1,20,\"hello\",[4,5,6],2)"
   ]
  },
  {
   "cell_type": "code",
   "execution_count": 95,
   "id": "a4fd3103",
   "metadata": {},
   "outputs": [
    {
     "name": "stdout",
     "output_type": "stream",
     "text": [
      "1\n",
      "2\n",
      "3 4 5\n"
     ]
    }
   ],
   "source": [
    "def add(a,b,*abc):\n",
    "    print(a)\n",
    "    print(b)\n",
    "    print(*abc)\n",
    "add(1,2,3,4,5)"
   ]
  },
  {
   "cell_type": "code",
   "execution_count": 94,
   "id": "94330ca7",
   "metadata": {},
   "outputs": [
    {
     "name": "stdout",
     "output_type": "stream",
     "text": [
      "1\n",
      "2\n",
      "3 4 5\n",
      "None\n"
     ]
    }
   ],
   "source": [
    "def add(a,b,*abc):\n",
    "    print(a)\n",
    "    print(b)\n",
    "    print(*abc)\n",
    "print(add(1,2,3,4,5))"
   ]
  },
  {
   "cell_type": "code",
   "execution_count": null,
   "id": "ffacad81",
   "metadata": {},
   "outputs": [],
   "source": []
  }
 ],
 "metadata": {
  "kernelspec": {
   "display_name": "Python 3 (ipykernel)",
   "language": "python",
   "name": "python3"
  },
  "language_info": {
   "codemirror_mode": {
    "name": "ipython",
    "version": 3
   },
   "file_extension": ".py",
   "mimetype": "text/x-python",
   "name": "python",
   "nbconvert_exporter": "python",
   "pygments_lexer": "ipython3",
   "version": "3.9.7"
  }
 },
 "nbformat": 4,
 "nbformat_minor": 5
}
