{
 "cells": [
  {
   "cell_type": "markdown",
   "id": "f4f427ff",
   "metadata": {},
   "source": [
    "# set methods"
   ]
  },
  {
   "cell_type": "code",
   "execution_count": 12,
   "id": "b92e2717",
   "metadata": {},
   "outputs": [
    {
     "name": "stdout",
     "output_type": "stream",
     "text": [
      "{3, 4}\n",
      "{1, 2, 3, 4, 5, 6}\n",
      "{1, 2}\n",
      "{5, 6}\n"
     ]
    }
   ],
   "source": [
    "#set methods\n",
    "s1={1,2,3,4}\n",
    "s2={3,4,5,6}\n",
    "r1=s1.intersection(s2)\n",
    "print(r1)\n",
    "r2=s1.union(s2)\n",
    "print(r2)\n",
    "r3=s1.difference(s2)\n",
    "print(r3)\n",
    "r4=s2.difference(s1)\n",
    "print(r4)\n"
   ]
  },
  {
   "cell_type": "code",
   "execution_count": 10,
   "id": "95dee3f4",
   "metadata": {},
   "outputs": [
    {
     "data": {
      "text/plain": [
       "{1, 2, 3, 4, 10}"
      ]
     },
     "execution_count": 10,
     "metadata": {},
     "output_type": "execute_result"
    }
   ],
   "source": [
    "s1={1,2,3,4}\n",
    "s1.add(10)\n",
    "s1"
   ]
  },
  {
   "cell_type": "code",
   "execution_count": 15,
   "id": "8b9997c0",
   "metadata": {},
   "outputs": [
    {
     "data": {
      "text/plain": [
       "{1, 2, 3, 4}"
      ]
     },
     "execution_count": 15,
     "metadata": {},
     "output_type": "execute_result"
    }
   ],
   "source": [
    "s1={1,2,3,4}\n",
    "s2={3,4,5,6}\n",
    "s1.difference(s2)\n",
    "s1"
   ]
  },
  {
   "cell_type": "markdown",
   "id": "1fe82db9",
   "metadata": {},
   "source": [
    "# conditional statements"
   ]
  },
  {
   "cell_type": "code",
   "execution_count": 24,
   "id": "148103d0",
   "metadata": {},
   "outputs": [
    {
     "name": "stdout",
     "output_type": "stream",
     "text": [
      "Enter a number:45\n",
      "odd\n"
     ]
    }
   ],
   "source": [
    "a=int(input(\"Enter a number:\"))\n",
    "if(a%2==0):\n",
    "    print(\"even\")\n",
    "else:\n",
    "    print(\"odd\")\n"
   ]
  },
  {
   "cell_type": "code",
   "execution_count": 27,
   "id": "e9824b34",
   "metadata": {},
   "outputs": [],
   "source": [
    "#ternary operator\n",
    "#condition ? true part : false part"
   ]
  },
  {
   "cell_type": "code",
   "execution_count": 28,
   "id": "35094d9b",
   "metadata": {},
   "outputs": [
    {
     "name": "stdout",
     "output_type": "stream",
     "text": [
      "11\n",
      "odd\n"
     ]
    }
   ],
   "source": [
    "a=int(input())\n",
    "print(\"even\") if a%2==0 else print(\"odd\")"
   ]
  },
  {
   "cell_type": "code",
   "execution_count": 34,
   "id": "ae87e267",
   "metadata": {},
   "outputs": [
    {
     "name": "stdout",
     "output_type": "stream",
     "text": [
      "enter number:6\n",
      "Saturday\n"
     ]
    }
   ],
   "source": [
    "a=int(input(\"enter number:\"))\n",
    "if(a<7):\n",
    "    if(a==0):\n",
    "        print(\"Sunday\")\n",
    "    elif(a==1):\n",
    "        print(\"Monday\")\n",
    "    elif(a==2):\n",
    "        print(\"Tuesday\")\n",
    "    elif(a==3):\n",
    "        print(\"Wednesday\")\n",
    "    elif(a==4):\n",
    "        print(\"Thursday\")\n",
    "    elif(a==5):\n",
    "        print(\"Friday\")\n",
    "    else:\n",
    "        print(\"Saturday\")\n",
    "else:\n",
    "    print(\"Invalid number\")\n",
    "    "
   ]
  },
  {
   "cell_type": "code",
   "execution_count": null,
   "id": "db81e0ae",
   "metadata": {},
   "outputs": [],
   "source": [
    "n=int(input())\n",
    "if n is in range 0,20:"
   ]
  },
  {
   "cell_type": "code",
   "execution_count": 46,
   "id": "8e5acf13",
   "metadata": {},
   "outputs": [
    {
     "name": "stdout",
     "output_type": "stream",
     "text": [
      "Enter a number:45\n",
      "normal number\n"
     ]
    }
   ],
   "source": [
    "n=int(input(\"Enter a number:\"))\n",
    "if(n>0 and n<20 ):\n",
    "    if(n%2==0):\n",
    "        print(\"weird number\")\n",
    "    else:\n",
    "        print(\"normal number\")\n",
    "elif(n>=20 and n<30):\n",
    "    print(\"normal number\")\n",
    "elif(n>=30):\n",
    "    if(n%2!=0):\n",
    "        print(\"normal number\")\n",
    "    else:\n",
    "        print(\"weird number\")\n",
    "else:\n",
    "    print(\"Invalid\")"
   ]
  },
  {
   "cell_type": "markdown",
   "id": "c234cdd9",
   "metadata": {},
   "source": [
    "# dictionary"
   ]
  },
  {
   "cell_type": "code",
   "execution_count": 48,
   "id": "0bf52141",
   "metadata": {},
   "outputs": [
    {
     "name": "stdout",
     "output_type": "stream",
     "text": [
      "{'name': 'studentname1', 'class': '1'}\n"
     ]
    }
   ],
   "source": [
    "student_details={\n",
    "    \"rollnumber1\" : {\"name\":\"studentname1\",\"class\":\"1\"},\n",
    "    \"rollnumber2\" : {\"name\":\"studentname2\",\"class\":\"2\"},\n",
    "    \"rollnumber3\" : {\"name\":\"studentname3\",\"class\":\"3\"}\n",
    "}\n",
    "print(student_details[\"rollnumber1\"])"
   ]
  },
  {
   "cell_type": "code",
   "execution_count": 3,
   "id": "681611e9",
   "metadata": {},
   "outputs": [
    {
     "data": {
      "text/plain": [
       "{'name': 'studentname', 'class': '7'}"
      ]
     },
     "execution_count": 3,
     "metadata": {},
     "output_type": "execute_result"
    }
   ],
   "source": [
    "d={}\n",
    "d.update({\"name\":\"studentname\",\"class\":\"7\"})\n",
    "d"
   ]
  },
  {
   "cell_type": "code",
   "execution_count": 4,
   "id": "bc9f4e6e",
   "metadata": {},
   "outputs": [
    {
     "data": {
      "text/plain": [
       "{'name': 'studentname1', 'class': '7'}"
      ]
     },
     "execution_count": 4,
     "metadata": {},
     "output_type": "execute_result"
    }
   ],
   "source": [
    "d={}\n",
    "d.update({\"name\":\"studentname\",\"class\":\"7\"})\n",
    "d.update({\"name\":\"studentname1\",\"class\":\"7\"})\n",
    "d"
   ]
  },
  {
   "cell_type": "code",
   "execution_count": 11,
   "id": "9ba1cdce",
   "metadata": {},
   "outputs": [
    {
     "name": "stdout",
     "output_type": "stream",
     "text": [
      "{'key1': 'value1', 'key2': 'value2', 'key3': 'value3'}\n",
      "value2\n"
     ]
    }
   ],
   "source": [
    "d={}\n",
    "d.update({\"key1\":\"value1\"})\n",
    "d.update({\"key2\":\"value2\"})\n",
    "d.update({\"key3\":\"value3\"})\n",
    "print(d)\n",
    "print(d.get(\"key2\"))\n"
   ]
  },
  {
   "cell_type": "code",
   "execution_count": 13,
   "id": "0a4befa6",
   "metadata": {},
   "outputs": [
    {
     "name": "stdout",
     "output_type": "stream",
     "text": [
      "{'220': 'Alekhya', '221': 'Pavitra', '222': 'Poojitha', '223': 'Reshma'}\n",
      "Alekhya\n"
     ]
    }
   ],
   "source": [
    "d={\"220\":\"Alekhya\",\"221\":\"Pavitra\",\"222\":\"Poojitha\",\"223\":\"Reshma\"}\n",
    "print(d)\n",
    "print(d.get(\"220\"))"
   ]
  },
  {
   "cell_type": "code",
   "execution_count": null,
   "id": "6d7e469a",
   "metadata": {},
   "outputs": [],
   "source": [
    "d={\"220\":\"Alekhya\",\"221\":\"Pavitra\",\"222\":\"Poojitha\",\"223\":\"Reshma\"}\n",
    "print(d)\n",
    "print(d.get(\"220\"))"
   ]
  },
  {
   "cell_type": "code",
   "execution_count": null,
   "id": "57972e91",
   "metadata": {},
   "outputs": [],
   "source": [
    "\"\"\"\"\n",
    "In cmd-->git init\n",
    "git remote add origin \"link from github\"\n",
    "git add .  (or) git add {filename}  -->(. adds all the files from local system to staging area)\n",
    "git commit -m \"a mandatory message\"   ->(message like uploading a project,initial commit)\n",
    "git push origin master\n",
    "\"\"\"\n",
    "#for updating a file\n",
    "\"\"\"\n",
    "git add .\n",
    "git commit -m \"changes in main.py\"\n",
    "git push origin master\n",
    "\"\"\""
   ]
  },
  {
   "cell_type": "code",
   "execution_count": null,
   "id": "11c49056",
   "metadata": {},
   "outputs": [],
   "source": [
    "#adding file to a particular branch in github\n",
    "\"\"\"\n",
    "git add .\n",
    "git commit  -m \"adding to alekhya branch\"\n",
    "git branch {branchname}\n",
    "git push origin {branchname}\n",
    "\"\"\""
   ]
  },
  {
   "cell_type": "code",
   "execution_count": 15,
   "id": "350b53e3",
   "metadata": {},
   "outputs": [
    {
     "name": "stdout",
     "output_type": "stream",
     "text": [
      "[1, 2, 3, 4, 5, 6, 7, 8, 9]\n"
     ]
    }
   ],
   "source": [
    "print(list(range(1,10)))"
   ]
  },
  {
   "cell_type": "code",
   "execution_count": 16,
   "id": "20ebc123",
   "metadata": {},
   "outputs": [
    {
     "name": "stdout",
     "output_type": "stream",
     "text": [
      "[1, 3, 5, 7, 9]\n"
     ]
    }
   ],
   "source": [
    "print(list(range(1,10,2)))"
   ]
  },
  {
   "cell_type": "code",
   "execution_count": 17,
   "id": "f052ee3a",
   "metadata": {},
   "outputs": [
    {
     "name": "stdout",
     "output_type": "stream",
     "text": [
      "1\n",
      "2\n",
      "3\n",
      "4\n",
      "5\n",
      "6\n",
      "7\n",
      "8\n",
      "9\n",
      "hello\n"
     ]
    }
   ],
   "source": [
    "for i in range(1,10):\n",
    "    print(i)\n",
    "print(\"hello\")"
   ]
  },
  {
   "cell_type": "code",
   "execution_count": 21,
   "id": "91cd1251",
   "metadata": {},
   "outputs": [
    {
     "name": "stdout",
     "output_type": "stream",
     "text": [
      "1,2,3,4,5,6,7,8,9,hello\n"
     ]
    }
   ],
   "source": [
    "for i in range(1,10):\n",
    "    print(i,end=\",\")\n",
    "print(\"hello\")"
   ]
  },
  {
   "cell_type": "code",
   "execution_count": 22,
   "id": "6132c08c",
   "metadata": {},
   "outputs": [
    {
     "name": "stdout",
     "output_type": "stream",
     "text": [
      "23 45 67 89 "
     ]
    }
   ],
   "source": [
    "list=[23,45,67,89]\n",
    "for i in list:\n",
    "    print(i,end=\" \")    #\\n is default"
   ]
  },
  {
   "cell_type": "code",
   "execution_count": 24,
   "id": "a951ea9b",
   "metadata": {},
   "outputs": [
    {
     "name": "stdout",
     "output_type": "stream",
     "text": [
      "1 4 9 16 25 36 "
     ]
    }
   ],
   "source": [
    "list=[1,2,3,4,5,6]\n",
    "for i in list:\n",
    "    print(i*i,end=\" \")"
   ]
  },
  {
   "cell_type": "code",
   "execution_count": 25,
   "id": "1453aad8",
   "metadata": {},
   "outputs": [
    {
     "name": "stdout",
     "output_type": "stream",
     "text": [
      "1 4 9 16 25 36 "
     ]
    }
   ],
   "source": [
    "list=[1,2,3,4,5,6]\n",
    "for i in list:\n",
    "    i=i**2\n",
    "    print(i,end=\" \")"
   ]
  },
  {
   "cell_type": "code",
   "execution_count": 41,
   "id": "1901d5d4",
   "metadata": {},
   "outputs": [
    {
     "name": "stdout",
     "output_type": "stream",
     "text": [
      "20 21 22 23 24 0 1 2 3 4 "
     ]
    }
   ],
   "source": [
    "l=[20,21,22,23,24]\n",
    "for i in l:\n",
    "    print(i,end=\" \")\n",
    "for i in range(0,len(l)):\n",
    "    print(i,end=\" \")\n"
   ]
  },
  {
   "cell_type": "code",
   "execution_count": 71,
   "id": "541d4517",
   "metadata": {},
   "outputs": [
    {
     "name": "stdout",
     "output_type": "stream",
     "text": [
      "User input:3\n",
      "2\n"
     ]
    }
   ],
   "source": [
    "l=[1,2,3,4,5,6,7]\n",
    "k=int(input(\"User input:\"))\n",
    "for i in range(len(l)):\n",
    "    if k==l[i]:\n",
    "        print(i)\n",
    "        break"
   ]
  },
  {
   "cell_type": "code",
   "execution_count": 73,
   "id": "0f03e770",
   "metadata": {},
   "outputs": [
    {
     "name": "stdout",
     "output_type": "stream",
     "text": [
      "User input:9\n",
      "Not in list\n"
     ]
    }
   ],
   "source": [
    "l=[1,2,3,4,5,6,7]\n",
    "k=int(input(\"User input:\"))\n",
    "temp=0\n",
    "for i in range(len(l)):\n",
    "    if k==l[i]:\n",
    "        print(i)\n",
    "        temp=True\n",
    "        break\n",
    "if temp==False:\n",
    "    print(\"Not in list\")"
   ]
  },
  {
   "cell_type": "code",
   "execution_count": 52,
   "id": "d87752fb",
   "metadata": {},
   "outputs": [
    {
     "name": "stdout",
     "output_type": "stream",
     "text": [
      "0 1 2 3 4 5 6 7 8 9 "
     ]
    }
   ],
   "source": [
    "l=[]\n",
    "for i in range(10):\n",
    "    l.append(i*i)\n",
    "    print(i,end=\" \")"
   ]
  },
  {
   "cell_type": "code",
   "execution_count": 53,
   "id": "e7d6dca0",
   "metadata": {},
   "outputs": [
    {
     "name": "stdout",
     "output_type": "stream",
     "text": [
      "[0, 1, 2, 3, 4, 5, 6, 7, 8, 9]\n"
     ]
    }
   ],
   "source": [
    "l=[x for x in range(0,10)]\n",
    "print(l)"
   ]
  },
  {
   "cell_type": "code",
   "execution_count": 54,
   "id": "7df48154",
   "metadata": {},
   "outputs": [
    {
     "name": "stdout",
     "output_type": "stream",
     "text": [
      "[0, 1, 4, 9, 16, 25, 36, 49, 64, 81]\n"
     ]
    }
   ],
   "source": [
    "l=[x*x for x in range(0,10)]\n",
    "print(l)"
   ]
  },
  {
   "cell_type": "code",
   "execution_count": 55,
   "id": "f1b58632",
   "metadata": {},
   "outputs": [
    {
     "name": "stdout",
     "output_type": "stream",
     "text": [
      "[0, 1, 8, 27, 64, 125, 216, 343, 512, 729]\n"
     ]
    }
   ],
   "source": [
    "l=[x*x*x for x in range(0,10)]\n",
    "print(l)"
   ]
  },
  {
   "cell_type": "code",
   "execution_count": 56,
   "id": "b8a07b8e",
   "metadata": {},
   "outputs": [
    {
     "name": "stdout",
     "output_type": "stream",
     "text": [
      "[0, 2, 4, 6, 8, 10, 12, 14, 16, 18, 20, 22, 24, 26, 28, 30, 32, 34, 36, 38, 40, 42, 44, 46, 48, 50]\n"
     ]
    }
   ],
   "source": [
    "l=[num for num in range(0,51) if num%2==0]\n",
    "print(l)"
   ]
  },
  {
   "cell_type": "code",
   "execution_count": 57,
   "id": "d5649e5b",
   "metadata": {},
   "outputs": [
    {
     "name": "stdout",
     "output_type": "stream",
     "text": [
      "[77]\n"
     ]
    }
   ],
   "source": [
    "l=[num for num in range(1,100) if num%7==0 and num%11==0]\n",
    "print(l)"
   ]
  },
  {
   "cell_type": "code",
   "execution_count": 58,
   "id": "add9cd01",
   "metadata": {},
   "outputs": [
    {
     "name": "stdout",
     "output_type": "stream",
     "text": [
      "1\n",
      "2\n",
      "3\n",
      "4\n",
      "5\n",
      "6\n",
      "7\n",
      "8\n",
      "9\n",
      "10\n"
     ]
    }
   ],
   "source": [
    "i=0\n",
    "while i<10:\n",
    "    i=i+1\n",
    "    print(i)"
   ]
  },
  {
   "cell_type": "code",
   "execution_count": 78,
   "id": "6d3789c4",
   "metadata": {},
   "outputs": [
    {
     "name": "stdout",
     "output_type": "stream",
     "text": [
      "['132', '3', '4', '5']\n"
     ]
    }
   ],
   "source": [
    "l=\"132 3 4 5\".split()\n",
    "print(l)"
   ]
  },
  {
   "cell_type": "code",
   "execution_count": 79,
   "id": "eebff323",
   "metadata": {},
   "outputs": [
    {
     "name": "stdout",
     "output_type": "stream",
     "text": [
      "['hello', 'world']\n"
     ]
    }
   ],
   "source": [
    "l=\"hello world\".split()\n",
    "print(l)"
   ]
  },
  {
   "cell_type": "code",
   "execution_count": null,
   "id": "a2065c8b",
   "metadata": {},
   "outputs": [],
   "source": []
  }
 ],
 "metadata": {
  "kernelspec": {
   "display_name": "Python 3 (ipykernel)",
   "language": "python",
   "name": "python3"
  },
  "language_info": {
   "codemirror_mode": {
    "name": "ipython",
    "version": 3
   },
   "file_extension": ".py",
   "mimetype": "text/x-python",
   "name": "python",
   "nbconvert_exporter": "python",
   "pygments_lexer": "ipython3",
   "version": "3.9.7"
  }
 },
 "nbformat": 4,
 "nbformat_minor": 5
}
